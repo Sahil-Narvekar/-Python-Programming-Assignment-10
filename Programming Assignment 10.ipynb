{
 "cells": [
  {
   "cell_type": "code",
   "execution_count": null,
   "metadata": {},
   "outputs": [],
   "source": [
    "1. Write a Python program to find sum of elements in list?"
   ]
  },
  {
   "cell_type": "code",
   "execution_count": 4,
   "metadata": {},
   "outputs": [
    {
     "name": "stdout",
     "output_type": "stream",
     "text": [
      "Enter the list 9 7 8 1 2 3\n",
      "sum is 30\n"
     ]
    }
   ],
   "source": [
    "a=list(input('Enter the list ').split())\n",
    "a=[int(i) for i in a]\n",
    "f=sum(a)\n",
    "print('sum is',f)"
   ]
  },
  {
   "cell_type": "code",
   "execution_count": null,
   "metadata": {},
   "outputs": [],
   "source": [
    "2. Write a Python program to Multiply all numbers in the list?"
   ]
  },
  {
   "cell_type": "code",
   "execution_count": 7,
   "metadata": {},
   "outputs": [
    {
     "name": "stdout",
     "output_type": "stream",
     "text": [
      "Enter the list 6 9 4 5\n",
      "1080\n"
     ]
    }
   ],
   "source": [
    "a=list(input('Enter the list ').split())\n",
    "product=1\n",
    "a=[int(i) for i in a]\n",
    "for i in a:\n",
    "    product*=i\n",
    "print(product)"
   ]
  },
  {
   "cell_type": "code",
   "execution_count": null,
   "metadata": {},
   "outputs": [],
   "source": [
    "3. Write a Python program to find smallest number in a list?"
   ]
  },
  {
   "cell_type": "code",
   "execution_count": 3,
   "metadata": {},
   "outputs": [
    {
     "name": "stdout",
     "output_type": "stream",
     "text": [
      "Enter the list 8 989 2 3 66 4 57 8\n",
      "2 is the smallest number in the list\n"
     ]
    }
   ],
   "source": [
    "a=list(input('Enter the list ').split())\n",
    "a=[int(i) for i in a]\n",
    "a.sort()\n",
    "print(a[0],'is the smallest number in the list')"
   ]
  },
  {
   "cell_type": "code",
   "execution_count": null,
   "metadata": {},
   "outputs": [],
   "source": [
    "4. Write a Python program to find largest number in a list?"
   ]
  },
  {
   "cell_type": "code",
   "execution_count": 4,
   "metadata": {},
   "outputs": [
    {
     "name": "stdout",
     "output_type": "stream",
     "text": [
      "Enter the list 7 95 6 311 85 956\n",
      "956 is the largest number in the list\n"
     ]
    }
   ],
   "source": [
    "a=list(input('Enter the list ').split())\n",
    "a=[int(i) for i in a]\n",
    "a.sort()\n",
    "print(a[-1],'is the largest number in the list')"
   ]
  },
  {
   "cell_type": "code",
   "execution_count": null,
   "metadata": {},
   "outputs": [],
   "source": [
    "5. Write a Python program to find second largest number in a list?"
   ]
  },
  {
   "cell_type": "code",
   "execution_count": 5,
   "metadata": {},
   "outputs": [
    {
     "name": "stdout",
     "output_type": "stream",
     "text": [
      "Enter the list 56 232 989 415 22 7 10 009\n",
      "415 is the second largest number in the list\n"
     ]
    }
   ],
   "source": [
    "a=list(input('Enter the list ').split())\n",
    "a=[int(i) for i in a]\n",
    "a.sort()\n",
    "print(a[-2],'is the second largest number in the list')"
   ]
  },
  {
   "cell_type": "code",
   "execution_count": null,
   "metadata": {},
   "outputs": [],
   "source": [
    "6. Write a Python program to find N largest elements from a list?"
   ]
  },
  {
   "cell_type": "code",
   "execution_count": 14,
   "metadata": {},
   "outputs": [
    {
     "name": "stdout",
     "output_type": "stream",
     "text": [
      "Enter the list 7 89 65 12 3 4 5 86 953\n",
      "Enter the n number of largest elements to be found out 4\n",
      "[65, 86, 89, 953] is the 4 largest number in the list\n"
     ]
    }
   ],
   "source": [
    "a=list(input('Enter the list ').split())\n",
    "b=int(input('Enter the n number of largest elements to be found out '))\n",
    "a=[int(i) for i in a]\n",
    "a.sort()\n",
    "a.append(0)\n",
    "\n",
    "print(a[-(b+1):-1],'is the largest {}  numbers in the list'.format(b))"
   ]
  },
  {
   "cell_type": "code",
   "execution_count": null,
   "metadata": {},
   "outputs": [],
   "source": [
    "7. Write a Python program to print even numbers in a list?"
   ]
  },
  {
   "cell_type": "code",
   "execution_count": 16,
   "metadata": {},
   "outputs": [
    {
     "name": "stdout",
     "output_type": "stream",
     "text": [
      "Enter the list 4665 1 23 26 4 59 87 64\n",
      "[26, 4, 64] is even numbers list\n"
     ]
    }
   ],
   "source": [
    "a=list(input('Enter the list ').split())\n",
    "\n",
    "a=[int(i) for i in a if int(i)%2==0]\n",
    "print(a,'is even numbers list')"
   ]
  },
  {
   "cell_type": "code",
   "execution_count": null,
   "metadata": {},
   "outputs": [],
   "source": [
    "8. Write a Python program to print odd numbers in a List?"
   ]
  },
  {
   "cell_type": "code",
   "execution_count": 17,
   "metadata": {},
   "outputs": [
    {
     "name": "stdout",
     "output_type": "stream",
     "text": [
      "Enter the list 4665 1 23 26 4 59 87 64\n",
      "[4665, 1, 23, 59, 87] is odd numbers list\n"
     ]
    }
   ],
   "source": [
    "a=list(input('Enter the list ').split())\n",
    "\n",
    "a=[int(i) for i in a if int(i)%2==1]\n",
    "print(a,'is odd numbers list')"
   ]
  },
  {
   "cell_type": "code",
   "execution_count": null,
   "metadata": {},
   "outputs": [],
   "source": [
    "9. Write a Python program to Remove empty List from List?"
   ]
  },
  {
   "cell_type": "code",
   "execution_count": 59,
   "metadata": {},
   "outputs": [
    {
     "name": "stdout",
     "output_type": "stream",
     "text": [
      "Enter the list [4665 s 23 [] 59 87 [] [1,2,s] lop a]\n",
      "10\n",
      "['[4665', 's', '23', '59', '87', '[1,2,s]', 'lop', 'a]'] <class 'list'>\n"
     ]
    }
   ],
   "source": [
    "a=(input('Enter the list ').split())\n",
    "print(len(a))\n",
    "z=[]\n",
    "#a=[4665 s 23 [] 59 87 [] [1,2,s] lop a] \n",
    "for i in range(len(a)):\n",
    "    if a[i]!='[]':\n",
    "        z.append(a[i])\n",
    "        continue\n",
    "print(z,type(z))          "
   ]
  },
  {
   "cell_type": "code",
   "execution_count": null,
   "metadata": {},
   "outputs": [],
   "source": [
    "10. Write a Python program to Cloning or Copying a list?"
   ]
  },
  {
   "cell_type": "code",
   "execution_count": 58,
   "metadata": {},
   "outputs": [
    {
     "name": "stdout",
     "output_type": "stream",
     "text": [
      "Enter the list [4665 s 23 [] 59 87 [] [1 2 s] lop a] \n",
      "['[4665', 's', '23', '[]', '59', '87', '[]', '[1', '2', 's]', 'lop', 'a]'] is the copied list\n"
     ]
    }
   ],
   "source": [
    "a=(input('Enter the list ').split())\n",
    "import copy\n",
    "b=copy.deepcopy(a)\n",
    "print(b,'is the copied list')"
   ]
  },
  {
   "cell_type": "code",
   "execution_count": null,
   "metadata": {},
   "outputs": [],
   "source": [
    "11. Write a Python program to Count occurrences of an element in a list?"
   ]
  },
  {
   "cell_type": "code",
   "execution_count": 2,
   "metadata": {},
   "outputs": [
    {
     "name": "stdout",
     "output_type": "stream",
     "text": [
      "Enter the list a k l 8 9 4 2 o 6 i u 8 a d cn a 8 7 8 a\n",
      "Enter the character to be identified 8\n"
     ]
    },
    {
     "data": {
      "text/plain": [
       "4"
      ]
     },
     "execution_count": 2,
     "metadata": {},
     "output_type": "execute_result"
    }
   ],
   "source": [
    "#a=['a','b',4,5,9,8,8,5,6,2,'p','i','e','d','u','o','s','a',4,8,'a']\n",
    "#a=[str(i) for i in a]\n",
    "#a k l 8 9 4 2 o 6 i u 8 a d cn a 8 7 8 a\n",
    "a=(input('Enter the list ').split())\n",
    "b=(input('Enter the character to be identified '))\n",
    "\n",
    "a.count(b)"
   ]
  },
  {
   "cell_type": "code",
   "execution_count": null,
   "metadata": {},
   "outputs": [],
   "source": []
  }
 ],
 "metadata": {
  "kernelspec": {
   "display_name": "Python 3",
   "language": "python",
   "name": "python3"
  },
  "language_info": {
   "codemirror_mode": {
    "name": "ipython",
    "version": 3
   },
   "file_extension": ".py",
   "mimetype": "text/x-python",
   "name": "python",
   "nbconvert_exporter": "python",
   "pygments_lexer": "ipython3",
   "version": "3.8.3"
  }
 },
 "nbformat": 4,
 "nbformat_minor": 4
}
